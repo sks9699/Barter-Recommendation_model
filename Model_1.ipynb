{
  "nbformat": 4,
  "nbformat_minor": 0,
  "metadata": {
    "colab": {
      "provenance": [],
      "gpuType": "T4",
      "include_colab_link": true
    },
    "kernelspec": {
      "name": "python3",
      "display_name": "Python 3"
    },
    "language_info": {
      "name": "python"
    },
    "accelerator": "GPU"
  },
  "cells": [
    {
      "cell_type": "markdown",
      "metadata": {
        "id": "view-in-github",
        "colab_type": "text"
      },
      "source": [
        "<a href=\"https://colab.research.google.com/github/sks9699/Barter-Recommendation_model/blob/main/Model_1.ipynb\" target=\"_parent\"><img src=\"https://colab.research.google.com/assets/colab-badge.svg\" alt=\"Open In Colab\"/></a>"
      ]
    },
    {
      "cell_type": "code",
      "execution_count": 1,
      "metadata": {
        "id": "7H9rmS9a9IdD",
        "colab": {
          "base_uri": "https://localhost:8080/"
        },
        "outputId": "07733a04-f810-46be-c599-20cc5445b487"
      },
      "outputs": [
        {
          "output_type": "stream",
          "name": "stdout",
          "text": [
            "mkdir: cannot create directory ‘~p’: File exists\n",
            "mkdir: cannot create directory ‘/root/.kaggle’: File exists\n"
          ]
        }
      ],
      "source": [
        "!mkdir ~p ~/.kaggle\n",
        "!cp kaggle.json ~/.kaggle/"
      ]
    },
    {
      "cell_type": "code",
      "source": [
        "!kaggle datasets download -d sks9699/leaf-class"
      ],
      "metadata": {
        "colab": {
          "base_uri": "https://localhost:8080/"
        },
        "id": "8U-RUDFYIOFf",
        "outputId": "42414f47-c0a4-4919-e3fe-5b34d47e92b9"
      },
      "execution_count": 2,
      "outputs": [
        {
          "output_type": "stream",
          "name": "stdout",
          "text": [
            "Warning: Your Kaggle API key is readable by other users on this system! To fix this, you can run 'chmod 600 /root/.kaggle/kaggle.json'\n",
            "Downloading leaf-class.zip to /content\n",
            "100% 6.56G/6.56G [01:19<00:00, 153MB/s]\n",
            "100% 6.56G/6.56G [01:19<00:00, 88.7MB/s]\n"
          ]
        }
      ]
    },
    {
      "cell_type": "code",
      "source": [
        "import zipfile\n",
        "zip_ref = zipfile.ZipFile('/content/leaf-class.zip','r')\n",
        "zip_ref.extractall('/content/dataset')\n",
        "zip_ref.close()"
      ],
      "metadata": {
        "id": "4QPuzHYLI19q"
      },
      "execution_count": 3,
      "outputs": []
    },
    {
      "cell_type": "code",
      "source": [
        "import numpy as np\n",
        "import pandas as pd\n",
        "import matplotlib.pyplot as plt\n",
        "import os\n",
        "import keras\n",
        "from keras.preprocessing.image import ImageDataGenerator, img_to_array, load_img\n",
        "from keras.applications.vgg19 import VGG19,preprocess_input,decode_predictions"
      ],
      "metadata": {
        "id": "mC5bL9CBJNaX"
      },
      "execution_count": 4,
      "outputs": []
    },
    {
      "cell_type": "code",
      "source": [],
      "metadata": {
        "id": "NhfYplfRHvH0"
      },
      "execution_count": 4,
      "outputs": []
    },
    {
      "cell_type": "code",
      "source": [
        "train_data = ImageDataGenerator(\n",
        "    zoom_range=0.5,\n",
        "    shear_range=0.3,\n",
        "    horizontal_flip=True,\n",
        "    preprocessing_function=preprocess_input,\n",
        "    rotation_range=30,  # additional augmentation: rotation\n",
        "    width_shift_range=0.2,  # additional augmentation: horizontal shift\n",
        "    height_shift_range=0.2,  # additional augmentation: vertical shift\n",
        "    brightness_range=[0.5, 1.5]  # additional augmentation: brightness adjustment\n",
        ")\n",
        "\n",
        "val_data = ImageDataGenerator()"
      ],
      "metadata": {
        "id": "3tTeauhKJtS2"
      },
      "execution_count": 5,
      "outputs": []
    },
    {
      "cell_type": "code",
      "source": [],
      "metadata": {
        "id": "_WE2kshtNfJc"
      },
      "execution_count": 5,
      "outputs": []
    },
    {
      "cell_type": "code",
      "source": [],
      "metadata": {
        "id": "dKTipUryNfMR"
      },
      "execution_count": 5,
      "outputs": []
    },
    {
      "cell_type": "code",
      "source": [],
      "metadata": {
        "id": "JBoabTC4NfPM"
      },
      "execution_count": 5,
      "outputs": []
    },
    {
      "cell_type": "code",
      "source": [],
      "metadata": {
        "id": "SJkcLTVBNfSe"
      },
      "execution_count": 5,
      "outputs": []
    },
    {
      "cell_type": "code",
      "source": [],
      "metadata": {
        "id": "yky61LH-NfVZ"
      },
      "execution_count": 5,
      "outputs": []
    },
    {
      "cell_type": "code",
      "source": [
        "train = train_data.flow_from_directory(directory = \"/content/dataset/dataset/train\",target_size = (256,256),batch_size=32,\n",
        "                                       class_mode = 'categorical')\n",
        "val = val_data.flow_from_directory(directory = \"/content/dataset/dataset/val\",target_size = (256,256),batch_size=32,\n",
        "                                   class_mode = 'categorical')"
      ],
      "metadata": {
        "id": "g_aaeOXZLW-D",
        "colab": {
          "base_uri": "https://localhost:8080/"
        },
        "outputId": "67f6be35-4765-4279-93eb-0d2b770a9896"
      },
      "execution_count": 6,
      "outputs": [
        {
          "output_type": "stream",
          "name": "stdout",
          "text": [
            "Found 3146 images belonging to 12 classes.\n",
            "Found 894 images belonging to 12 classes.\n"
          ]
        }
      ]
    },
    {
      "cell_type": "code",
      "source": [
        "t_img,label = train.next()"
      ],
      "metadata": {
        "id": "r_Uzu-27Mk3w"
      },
      "execution_count": 7,
      "outputs": []
    },
    {
      "cell_type": "code",
      "source": [
        "t_img.shape"
      ],
      "metadata": {
        "colab": {
          "base_uri": "https://localhost:8080/"
        },
        "id": "vlWoKPpXOUFA",
        "outputId": "aa3d3bd6-2ef2-4b8c-d1d5-d4958199c5ef"
      },
      "execution_count": 8,
      "outputs": [
        {
          "output_type": "execute_result",
          "data": {
            "text/plain": [
              "(32, 256, 256, 3)"
            ]
          },
          "metadata": {},
          "execution_count": 8
        }
      ]
    },
    {
      "cell_type": "code",
      "source": [
        "def plotImage(img_arr,label):\n",
        "    for im,l in zip(img_arr,label):\n",
        "         plt.figure(figsize=(5,5))\n",
        "#          plt.imshow(im/255)\n",
        "         plt.show()"
      ],
      "metadata": {
        "id": "nMGyzAyaOW9Z"
      },
      "execution_count": 9,
      "outputs": []
    },
    {
      "cell_type": "code",
      "source": [
        "from keras.layers import Dense,Flatten,Dropout\n",
        "from keras.models import Model\n",
        "from keras.applications.vgg19 import VGG19\n",
        "import keras"
      ],
      "metadata": {
        "id": "mDdkijfAOn2I"
      },
      "execution_count": 15,
      "outputs": []
    },
    {
      "cell_type": "code",
      "source": [
        "base_model = VGG19(input_shape=(256,256,3),include_top=False)"
      ],
      "metadata": {
        "id": "r7NfPJclUNqu",
        "colab": {
          "base_uri": "https://localhost:8080/"
        },
        "outputId": "7d959932-ca35-4d4f-a685-8a7f4f1a1883"
      },
      "execution_count": 11,
      "outputs": [
        {
          "output_type": "stream",
          "name": "stdout",
          "text": [
            "Downloading data from https://storage.googleapis.com/tensorflow/keras-applications/vgg19/vgg19_weights_tf_dim_ordering_tf_kernels_notop.h5\n",
            "80134624/80134624 [==============================] - 0s 0us/step\n"
          ]
        }
      ]
    },
    {
      "cell_type": "code",
      "source": [
        "for layer in base_model.layers:\n",
        "    layer.trainable =False"
      ],
      "metadata": {
        "id": "rqMQqzcyUxqU"
      },
      "execution_count": 12,
      "outputs": []
    },
    {
      "cell_type": "code",
      "source": [
        "base_model.summary()"
      ],
      "metadata": {
        "id": "9YvTi1K5VIAO",
        "colab": {
          "base_uri": "https://localhost:8080/"
        },
        "outputId": "97406805-8613-4cf0-ee2e-006c7e34edf7"
      },
      "execution_count": 13,
      "outputs": [
        {
          "output_type": "stream",
          "name": "stdout",
          "text": [
            "Model: \"vgg19\"\n",
            "_________________________________________________________________\n",
            " Layer (type)                Output Shape              Param #   \n",
            "=================================================================\n",
            " input_1 (InputLayer)        [(None, 256, 256, 3)]     0         \n",
            "                                                                 \n",
            " block1_conv1 (Conv2D)       (None, 256, 256, 64)      1792      \n",
            "                                                                 \n",
            " block1_conv2 (Conv2D)       (None, 256, 256, 64)      36928     \n",
            "                                                                 \n",
            " block1_pool (MaxPooling2D)  (None, 128, 128, 64)      0         \n",
            "                                                                 \n",
            " block2_conv1 (Conv2D)       (None, 128, 128, 128)     73856     \n",
            "                                                                 \n",
            " block2_conv2 (Conv2D)       (None, 128, 128, 128)     147584    \n",
            "                                                                 \n",
            " block2_pool (MaxPooling2D)  (None, 64, 64, 128)       0         \n",
            "                                                                 \n",
            " block3_conv1 (Conv2D)       (None, 64, 64, 256)       295168    \n",
            "                                                                 \n",
            " block3_conv2 (Conv2D)       (None, 64, 64, 256)       590080    \n",
            "                                                                 \n",
            " block3_conv3 (Conv2D)       (None, 64, 64, 256)       590080    \n",
            "                                                                 \n",
            " block3_conv4 (Conv2D)       (None, 64, 64, 256)       590080    \n",
            "                                                                 \n",
            " block3_pool (MaxPooling2D)  (None, 32, 32, 256)       0         \n",
            "                                                                 \n",
            " block4_conv1 (Conv2D)       (None, 32, 32, 512)       1180160   \n",
            "                                                                 \n",
            " block4_conv2 (Conv2D)       (None, 32, 32, 512)       2359808   \n",
            "                                                                 \n",
            " block4_conv3 (Conv2D)       (None, 32, 32, 512)       2359808   \n",
            "                                                                 \n",
            " block4_conv4 (Conv2D)       (None, 32, 32, 512)       2359808   \n",
            "                                                                 \n",
            " block4_pool (MaxPooling2D)  (None, 16, 16, 512)       0         \n",
            "                                                                 \n",
            " block5_conv1 (Conv2D)       (None, 16, 16, 512)       2359808   \n",
            "                                                                 \n",
            " block5_conv2 (Conv2D)       (None, 16, 16, 512)       2359808   \n",
            "                                                                 \n",
            " block5_conv3 (Conv2D)       (None, 16, 16, 512)       2359808   \n",
            "                                                                 \n",
            " block5_conv4 (Conv2D)       (None, 16, 16, 512)       2359808   \n",
            "                                                                 \n",
            " block5_pool (MaxPooling2D)  (None, 8, 8, 512)         0         \n",
            "                                                                 \n",
            "=================================================================\n",
            "Total params: 20024384 (76.39 MB)\n",
            "Trainable params: 0 (0.00 Byte)\n",
            "Non-trainable params: 20024384 (76.39 MB)\n",
            "_________________________________________________________________\n"
          ]
        }
      ]
    },
    {
      "cell_type": "code",
      "source": [
        "x = Flatten()(base_model.output)\n",
        "x = Dense(units=512, activation=\"relu\")(x)\n",
        "x = Dropout(0.5)(x)  # Dropout layer to reduce overfitting\n",
        "x = Dense(units=256, activation=\"relu\")(x)\n",
        "x = Dropout(0.5)(x)  # Dropout layer to reduce overfitting\n",
        "x = Dense(units=12, activation=\"softmax\")(x)\n",
        "model = Model(base_model.input,x)"
      ],
      "metadata": {
        "id": "syla_3_mZB5_"
      },
      "execution_count": 21,
      "outputs": []
    },
    {
      "cell_type": "code",
      "source": [
        "model.summary()"
      ],
      "metadata": {
        "colab": {
          "base_uri": "https://localhost:8080/"
        },
        "id": "LVixKwmXZrkZ",
        "outputId": "f5951771-2eb4-440b-d292-3183d7da6f31"
      },
      "execution_count": 22,
      "outputs": [
        {
          "output_type": "stream",
          "name": "stdout",
          "text": [
            "Model: \"model\"\n",
            "_________________________________________________________________\n",
            " Layer (type)                Output Shape              Param #   \n",
            "=================================================================\n",
            " input_1 (InputLayer)        [(None, 256, 256, 3)]     0         \n",
            "                                                                 \n",
            " block1_conv1 (Conv2D)       (None, 256, 256, 64)      1792      \n",
            "                                                                 \n",
            " block1_conv2 (Conv2D)       (None, 256, 256, 64)      36928     \n",
            "                                                                 \n",
            " block1_pool (MaxPooling2D)  (None, 128, 128, 64)      0         \n",
            "                                                                 \n",
            " block2_conv1 (Conv2D)       (None, 128, 128, 128)     73856     \n",
            "                                                                 \n",
            " block2_conv2 (Conv2D)       (None, 128, 128, 128)     147584    \n",
            "                                                                 \n",
            " block2_pool (MaxPooling2D)  (None, 64, 64, 128)       0         \n",
            "                                                                 \n",
            " block3_conv1 (Conv2D)       (None, 64, 64, 256)       295168    \n",
            "                                                                 \n",
            " block3_conv2 (Conv2D)       (None, 64, 64, 256)       590080    \n",
            "                                                                 \n",
            " block3_conv3 (Conv2D)       (None, 64, 64, 256)       590080    \n",
            "                                                                 \n",
            " block3_conv4 (Conv2D)       (None, 64, 64, 256)       590080    \n",
            "                                                                 \n",
            " block3_pool (MaxPooling2D)  (None, 32, 32, 256)       0         \n",
            "                                                                 \n",
            " block4_conv1 (Conv2D)       (None, 32, 32, 512)       1180160   \n",
            "                                                                 \n",
            " block4_conv2 (Conv2D)       (None, 32, 32, 512)       2359808   \n",
            "                                                                 \n",
            " block4_conv3 (Conv2D)       (None, 32, 32, 512)       2359808   \n",
            "                                                                 \n",
            " block4_conv4 (Conv2D)       (None, 32, 32, 512)       2359808   \n",
            "                                                                 \n",
            " block4_pool (MaxPooling2D)  (None, 16, 16, 512)       0         \n",
            "                                                                 \n",
            " block5_conv1 (Conv2D)       (None, 16, 16, 512)       2359808   \n",
            "                                                                 \n",
            " block5_conv2 (Conv2D)       (None, 16, 16, 512)       2359808   \n",
            "                                                                 \n",
            " block5_conv3 (Conv2D)       (None, 16, 16, 512)       2359808   \n",
            "                                                                 \n",
            " block5_conv4 (Conv2D)       (None, 16, 16, 512)       2359808   \n",
            "                                                                 \n",
            " block5_pool (MaxPooling2D)  (None, 8, 8, 512)         0         \n",
            "                                                                 \n",
            " flatten_3 (Flatten)         (None, 32768)             0         \n",
            "                                                                 \n",
            " dense_7 (Dense)             (None, 512)               16777728  \n",
            "                                                                 \n",
            " dropout_4 (Dropout)         (None, 512)               0         \n",
            "                                                                 \n",
            " dense_8 (Dense)             (None, 256)               131328    \n",
            "                                                                 \n",
            " dropout_5 (Dropout)         (None, 256)               0         \n",
            "                                                                 \n",
            " dense_9 (Dense)             (None, 12)                3084      \n",
            "                                                                 \n",
            "=================================================================\n",
            "Total params: 36936524 (140.90 MB)\n",
            "Trainable params: 16912140 (64.51 MB)\n",
            "Non-trainable params: 20024384 (76.39 MB)\n",
            "_________________________________________________________________\n"
          ]
        }
      ]
    },
    {
      "cell_type": "code",
      "source": [
        "model.compile(optimizer='adam',loss=keras.losses.categorical_crossentropy,\n",
        "             metrics=['accuracy'])"
      ],
      "metadata": {
        "id": "K-rZObqZZuz6"
      },
      "execution_count": 23,
      "outputs": []
    },
    {
      "cell_type": "code",
      "source": [
        "from keras.callbacks import ModelCheckpoint, EarlyStopping\n",
        "\n",
        "## Early stopping\n",
        "es = EarlyStopping(monitor='val_loss', patience=5, restore_best_weights=True)\n",
        "\n",
        "## Model checkpoint\n",
        "mc = ModelCheckpoint(filepath='best_model.h5',\n",
        "                     monitor='val_accuracy',\n",
        "                     min_delta=0.01,\n",
        "                     patience=3,\n",
        "                     verbose=1,\n",
        "                     save_best_only=True)\n",
        "\n",
        "cb = [es, mc]  # Corrected to include both EarlyStopping and ModelCheckpoint objects directly in the list\n"
      ],
      "metadata": {
        "id": "Bzj-lbesZ4C5"
      },
      "execution_count": 24,
      "outputs": []
    },
    {
      "cell_type": "code",
      "source": [
        "his = model.fit_generator(train,\n",
        "                          steps_per_epoch=8,\n",
        "                          epochs=25,\n",
        "                          verbose=1,\n",
        "                          callbacks=cb,\n",
        "                         validation_data=val,\n",
        "                         validation_steps=8)"
      ],
      "metadata": {
        "id": "vwWusQHRZ4Ge",
        "colab": {
          "base_uri": "https://localhost:8080/"
        },
        "outputId": "9d5a6389-333d-4ddd-c45e-a71f9886ab55"
      },
      "execution_count": 25,
      "outputs": [
        {
          "output_type": "stream",
          "name": "stderr",
          "text": [
            "<ipython-input-25-1db0c0aa0f4d>:1: UserWarning: `Model.fit_generator` is deprecated and will be removed in a future version. Please use `Model.fit`, which supports generators.\n",
            "  his = model.fit_generator(train,\n"
          ]
        },
        {
          "output_type": "stream",
          "name": "stdout",
          "text": [
            "Epoch 1/25\n",
            "8/8 [==============================] - ETA: 0s - loss: 24.2261 - accuracy: 0.1328 \n",
            "Epoch 1: val_accuracy improved from -inf to 0.23047, saving model to best_model.h5\n"
          ]
        },
        {
          "output_type": "stream",
          "name": "stderr",
          "text": [
            "/usr/local/lib/python3.10/dist-packages/keras/src/engine/training.py:3103: UserWarning: You are saving your model as an HDF5 file via `model.save()`. This file format is considered legacy. We recommend using instead the native Keras format, e.g. `model.save('my_model.keras')`.\n",
            "  saving_api.save_model(\n"
          ]
        },
        {
          "output_type": "stream",
          "name": "stdout",
          "text": [
            "\b\b\b\b\b\b\b\b\b\b\b\b\b\b\b\b\b\b\b\b\b\b\b\b\b\b\b\b\b\b\b\b\b\b\b\b\b\b\b\b\b\b\b\b\b\b\b\b\b\b\b\b\b\b\b\b\b\b\b\b\b\b\b\b\b\b\b\b\b\b\b\b\b\b\b\b\b\b\b\b\b\r8/8 [==============================] - 393s 52s/step - loss: 24.2261 - accuracy: 0.1328 - val_loss: 11.2870 - val_accuracy: 0.2305\n",
            "Epoch 2/25\n",
            "8/8 [==============================] - ETA: 0s - loss: 24.3535 - accuracy: 0.1562 \n",
            "Epoch 2: val_accuracy improved from 0.23047 to 0.34375, saving model to best_model.h5\n",
            "8/8 [==============================] - 384s 51s/step - loss: 24.3535 - accuracy: 0.1562 - val_loss: 7.0063 - val_accuracy: 0.3438\n",
            "Epoch 3/25\n",
            "8/8 [==============================] - ETA: 0s - loss: 17.5982 - accuracy: 0.1406 \n",
            "Epoch 3: val_accuracy did not improve from 0.34375\n",
            "8/8 [==============================] - 381s 50s/step - loss: 17.5982 - accuracy: 0.1406 - val_loss: 7.4240 - val_accuracy: 0.2734\n",
            "Epoch 4/25\n",
            "8/8 [==============================] - ETA: 0s - loss: 10.7649 - accuracy: 0.2461 \n",
            "Epoch 4: val_accuracy improved from 0.34375 to 0.42969, saving model to best_model.h5\n",
            "8/8 [==============================] - 386s 51s/step - loss: 10.7649 - accuracy: 0.2461 - val_loss: 3.6994 - val_accuracy: 0.4297\n",
            "Epoch 5/25\n",
            "8/8 [==============================] - ETA: 0s - loss: 9.2063 - accuracy: 0.1836 \n",
            "Epoch 5: val_accuracy improved from 0.42969 to 0.43359, saving model to best_model.h5\n",
            "8/8 [==============================] - 388s 51s/step - loss: 9.2063 - accuracy: 0.1836 - val_loss: 2.9735 - val_accuracy: 0.4336\n",
            "Epoch 6/25\n",
            "8/8 [==============================] - ETA: 0s - loss: 7.3025 - accuracy: 0.1875 \n",
            "Epoch 6: val_accuracy did not improve from 0.43359\n",
            "8/8 [==============================] - 378s 50s/step - loss: 7.3025 - accuracy: 0.1875 - val_loss: 3.1682 - val_accuracy: 0.3672\n",
            "Epoch 7/25\n",
            "8/8 [==============================] - ETA: 0s - loss: 5.2415 - accuracy: 0.1836 \n",
            "Epoch 7: val_accuracy did not improve from 0.43359\n",
            "8/8 [==============================] - 381s 50s/step - loss: 5.2415 - accuracy: 0.1836 - val_loss: 3.4871 - val_accuracy: 0.2891\n",
            "Epoch 8/25\n",
            "8/8 [==============================] - ETA: 0s - loss: 3.9631 - accuracy: 0.1953 \n",
            "Epoch 8: val_accuracy did not improve from 0.43359\n",
            "8/8 [==============================] - 386s 51s/step - loss: 3.9631 - accuracy: 0.1953 - val_loss: 2.4780 - val_accuracy: 0.3633\n",
            "Epoch 9/25\n",
            "8/8 [==============================] - ETA: 0s - loss: 3.0470 - accuracy: 0.1953 \n",
            "Epoch 9: val_accuracy did not improve from 0.43359\n",
            "8/8 [==============================] - 358s 47s/step - loss: 3.0470 - accuracy: 0.1953 - val_loss: 2.2339 - val_accuracy: 0.3594\n",
            "Epoch 10/25\n",
            "8/8 [==============================] - ETA: 0s - loss: 2.6174 - accuracy: 0.2521 \n",
            "Epoch 10: val_accuracy did not improve from 0.43359\n",
            "8/8 [==============================] - 365s 48s/step - loss: 2.6174 - accuracy: 0.2521 - val_loss: 2.2460 - val_accuracy: 0.3164\n",
            "Epoch 11/25\n",
            "8/8 [==============================] - ETA: 0s - loss: 2.3580 - accuracy: 0.2148 \n",
            "Epoch 11: val_accuracy did not improve from 0.43359\n",
            "8/8 [==============================] - 386s 51s/step - loss: 2.3580 - accuracy: 0.2148 - val_loss: 2.3320 - val_accuracy: 0.3359\n",
            "Epoch 12/25\n",
            "8/8 [==============================] - ETA: 0s - loss: 2.6051 - accuracy: 0.2188 \n",
            "Epoch 12: val_accuracy did not improve from 0.43359\n",
            "8/8 [==============================] - 382s 51s/step - loss: 2.6051 - accuracy: 0.2188 - val_loss: 2.3008 - val_accuracy: 0.3242\n",
            "Epoch 13/25\n",
            "8/8 [==============================] - ETA: 0s - loss: 2.4414 - accuracy: 0.2734 \n",
            "Epoch 13: val_accuracy did not improve from 0.43359\n",
            "8/8 [==============================] - 383s 51s/step - loss: 2.4414 - accuracy: 0.2734 - val_loss: 2.3413 - val_accuracy: 0.3320\n",
            "Epoch 14/25\n",
            "8/8 [==============================] - ETA: 0s - loss: 2.5196 - accuracy: 0.2344 \n",
            "Epoch 14: val_accuracy did not improve from 0.43359\n",
            "8/8 [==============================] - 390s 52s/step - loss: 2.5196 - accuracy: 0.2344 - val_loss: 2.2616 - val_accuracy: 0.3438\n"
          ]
        }
      ]
    },
    {
      "cell_type": "code",
      "source": [
        "h = his.history"
      ],
      "metadata": {
        "id": "bGMwBovmZ4Jq"
      },
      "execution_count": 26,
      "outputs": []
    },
    {
      "cell_type": "code",
      "source": [
        "plt.plot(h['accuracy'])\n",
        "plt.plot(h['val_accuracy'],color = 'red')\n",
        "plt.title(\"acc vs v-acc\")\n",
        "plt.show()"
      ],
      "metadata": {
        "colab": {
          "base_uri": "https://localhost:8080/",
          "height": 452
        },
        "id": "GMLhm0bSb7QF",
        "outputId": "c63d836a-23a3-4098-8134-f5f66f75f4fb"
      },
      "execution_count": 27,
      "outputs": [
        {
          "output_type": "display_data",
          "data": {
            "text/plain": [
              "<Figure size 640x480 with 1 Axes>"
            ],
            "image/png": "[encoded data removed]"
          },
          "metadata": {}
        }
      ]
    },
    {
      "cell_type": "code",
      "source": [
        "plt.plot(h['loss'])\n",
        "plt.plot(h['val_loss'],color = 'red')\n",
        "plt.title(\"acc vs v-loss\")\n"
      ],
      "metadata": {
        "id": "P7ogNSMCg5IW",
        "colab": {
          "base_uri": "https://localhost:8080/",
          "height": 469
        },
        "outputId": "b81fb10c-9479-49be-e4bc-839edbe4cb5b"
      },
      "execution_count": 28,
      "outputs": [
        {
          "output_type": "execute_result",
          "data": {
            "text/plain": [
              "Text(0.5, 1.0, 'acc vs v-loss')"
            ]
          },
          "metadata": {},
          "execution_count": 28
        },
        {
          "output_type": "display_data",
          "data": {
            "text/plain": [
              "<Figure size 640x480 with 1 Axes>"
            ],
            "image/png": "[encoded data removed]"
          },
          "metadata": {}
        }
      ]
    },
    {
      "cell_type": "code",
      "source": [],
      "metadata": {
        "id": "1xMLjJ_Ywi2D"
      },
      "execution_count": 28,
      "outputs": []
    },
    {
      "cell_type": "code",
      "source": [
        "#load best model\n",
        "from keras.models import load_model\n",
        "model = load_model(\"best_model.h5\")"
      ],
      "metadata": {
        "id": "TOiEqZAo0TNA"
      },
      "execution_count": 29,
      "outputs": []
    },
    {
      "cell_type": "code",
      "source": [
        "acc = model.evaluate_generator(val)[1]\n",
        "print(f\"The accuracy of model is {acc*100}%\")"
      ],
      "metadata": {
        "colab": {
          "base_uri": "https://localhost:8080/"
        },
        "id": "c-HNUiYn0TO0",
        "outputId": "354ce439-cba2-47bd-ba2f-28daf3d64f78"
      },
      "execution_count": 30,
      "outputs": [
        {
          "output_type": "stream",
          "name": "stderr",
          "text": [
            "<ipython-input-30-f62a594ef9bf>:1: UserWarning: `Model.evaluate_generator` is deprecated and will be removed in a future version. Please use `Model.evaluate`, which supports generators.\n",
            "  acc = model.evaluate_generator(val)[1]\n"
          ]
        },
        {
          "output_type": "stream",
          "name": "stdout",
          "text": [
            "The accuracy of model is 45.19015550613403%\n"
          ]
        }
      ]
    },
    {
      "cell_type": "code",
      "source": [
        "ref = dict(zip(list(train.class_indices.values()) ,  list(train.class_indices.keys())))\n"
      ],
      "metadata": {
        "id": "624GDCqI0TsV"
      },
      "execution_count": 31,
      "outputs": []
    },
    {
      "cell_type": "code",
      "source": [
        "def prediction(path):\n",
        "    img = load_img(path,target_size = (256,256))\n",
        "    i = img_to_array(img)\n",
        "    im = preprocess_input(i)\n",
        "    img = np.expand_dims(im,axis=0)\n",
        "    pred =np.argmax( model.predict(img))\n",
        "    print(f\"The Image belong to {ref[pred]}\")"
      ],
      "metadata": {
        "id": "xeCecAMn0ZSA"
      },
      "execution_count": 32,
      "outputs": []
    },
    {
      "cell_type": "code",
      "source": [
        "path = \"/content/dataset/dataset/train/Mango (P0)/0001_0008.JPG\"\n",
        "prediction(path)\n"
      ],
      "metadata": {
        "colab": {
          "base_uri": "https://localhost:8080/"
        },
        "id": "8nmhSSEf0ZU8",
        "outputId": "8c8fa3b4-c110-477d-d8cb-f0a8d6d89d19"
      },
      "execution_count": 36,
      "outputs": [
        {
          "output_type": "stream",
          "name": "stdout",
          "text": [
            "1/1 [==============================] - 1s 594ms/step\n",
            "The Image belong to Mango (P0)\n"
          ]
        }
      ]
    },
    {
      "cell_type": "code",
      "source": [
        "path = \"/content/lemon.jpg\"\n",
        "prediction(path)"
      ],
      "metadata": {
        "id": "1pr9wM9t0ZXp",
        "colab": {
          "base_uri": "https://localhost:8080/"
        },
        "outputId": "973d8244-5be1-4bbe-ab10-689197fa30a7"
      },
      "execution_count": 40,
      "outputs": [
        {
          "output_type": "stream",
          "name": "stdout",
          "text": [
            "1/1 [==============================] - 1s 618ms/step\n",
            "The Image belong to Gauva (P3)\n"
          ]
        }
      ]
    },
    {
      "cell_type": "code",
      "source": [],
      "metadata": {
        "id": "4_JO1N9O0ZaA"
      },
      "execution_count": 34,
      "outputs": []
    }
  ]
}