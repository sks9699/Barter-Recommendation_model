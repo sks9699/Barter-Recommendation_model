{
  "nbformat": 4,
  "nbformat_minor": 0,
  "metadata": {
    "colab": {
      "provenance": [],
      "gpuType": "T4",
      "authorship_tag": "ABX9TyNi9DQy4qI9M377msb16204",
      "include_colab_link": true
    },
    "kernelspec": {
      "name": "python3",
      "display_name": "Python 3"
    },
    "language_info": {
      "name": "python"
    },
    "accelerator": "GPU"
  },
  "cells": [
    {
      "cell_type": "markdown",
      "metadata": {
        "id": "view-in-github",
        "colab_type": "text"
      },
      "source": [
        "<a href=\"https://colab.research.google.com/github/sks9699/Barter-Recommendation_model/blob/main/Model_1.ipynb\" target=\"_parent\"><img src=\"https://colab.research.google.com/assets/colab-badge.svg\" alt=\"Open In Colab\"/></a>"
      ]
    },
    {
      "cell_type": "code",
      "execution_count": 2,
      "metadata": {
        "id": "7H9rmS9a9IdD",
        "colab": {
          "base_uri": "https://localhost:8080/"
        },
        "outputId": "33e3f85e-e06a-4c41-ef92-2f5c34f42169"
      },
      "outputs": [
        {
          "output_type": "stream",
          "name": "stdout",
          "text": [
            "mkdir: cannot create directory ‘~p’: File exists\n",
            "mkdir: cannot create directory ‘/root/.kaggle’: File exists\n"
          ]
        }
      ],
      "source": [
        "# !mkdir ~p ~/.kaggle\n",
        "# !cp kaggle.json ~/.kaggle/"
      ]
    },
    {
      "cell_type": "code",
      "source": [
        "# !kaggle datasets download -d sks9699/leaf-class"
      ],
      "metadata": {
        "colab": {
          "base_uri": "https://localhost:8080/"
        },
        "id": "8U-RUDFYIOFf",
        "outputId": "d73a7fdd-9d6a-4da2-c136-c9dfb00148f7"
      },
      "execution_count": 4,
      "outputs": [
        {
          "output_type": "stream",
          "name": "stdout",
          "text": [
            "Warning: Your Kaggle API key is readable by other users on this system! To fix this, you can run 'chmod 600 /root/.kaggle/kaggle.json'\n",
            "Downloading leaf-class.zip to /content\n",
            "100% 6.55G/6.56G [01:23<00:00, 62.7MB/s]\n",
            "100% 6.56G/6.56G [01:24<00:00, 83.8MB/s]\n"
          ]
        }
      ]
    },
    {
      "cell_type": "code",
      "source": [
        "# import zipfile\n",
        "# zip_ref = zipfile.ZipFile('/content/leaf-class.zip','r')\n",
        "# zip_ref.extractall('/content/dataset')\n",
        "# zip_ref.close()"
      ],
      "metadata": {
        "id": "4QPuzHYLI19q"
      },
      "execution_count": 1,
      "outputs": []
    },
    {
      "cell_type": "code",
      "source": [
        "import numpy as np\n",
        "import pandas as pd\n",
        "import matplotlib.pyplot as plt\n",
        "import os\n",
        "import keras\n",
        "from keras.preprocessing.image import ImageDataGenerator, img_to_array, load_img\n",
        "from keras.applications.vgg19 import VGG19,preprocess_input,decode_predictions"
      ],
      "metadata": {
        "id": "mC5bL9CBJNaX"
      },
      "execution_count": 2,
      "outputs": []
    },
    {
      "cell_type": "code",
      "source": [
        "train_data = ImageDataGenerator(zoom_range = 0.5,shear_range=0.3,horizontal_flip = True,\n",
        "                                preprocessing_function=preprocess_input)\n",
        "val_data = ImageDataGenerator(preprocessing_function=preprocess_input)"
      ],
      "metadata": {
        "id": "3tTeauhKJtS2"
      },
      "execution_count": 3,
      "outputs": []
    },
    {
      "cell_type": "code",
      "source": [
        "train = train_data.flow_from_directory(directory = \"/content/dataset/dataset/train\",target_size = (256,256),batch_size=32)\n",
        "val = val_data.flow_from_directory(directory = \"/content/dataset/dataset/val\",target_size = (256,256),batch_size=32)"
      ],
      "metadata": {
        "id": "g_aaeOXZLW-D",
        "colab": {
          "base_uri": "https://localhost:8080/"
        },
        "outputId": "7c5bb159-18b5-4f87-8937-003a17395ad9"
      },
      "execution_count": 4,
      "outputs": [
        {
          "output_type": "stream",
          "name": "stdout",
          "text": [
            "Found 3146 images belonging to 12 classes.\n",
            "Found 894 images belonging to 12 classes.\n"
          ]
        }
      ]
    },
    {
      "cell_type": "code",
      "source": [
        "t_img,label = train.next()"
      ],
      "metadata": {
        "id": "r_Uzu-27Mk3w"
      },
      "execution_count": 5,
      "outputs": []
    },
    {
      "cell_type": "code",
      "source": [
        "t_img.shape"
      ],
      "metadata": {
        "colab": {
          "base_uri": "https://localhost:8080/"
        },
        "id": "vlWoKPpXOUFA",
        "outputId": "79ac5bae-7c23-4add-dcb9-9908c530dea9"
      },
      "execution_count": 6,
      "outputs": [
        {
          "output_type": "execute_result",
          "data": {
            "text/plain": [
              "(32, 256, 256, 3)"
            ]
          },
          "metadata": {},
          "execution_count": 6
        }
      ]
    },
    {
      "cell_type": "code",
      "source": [
        "def plotImage(img_arr,label):\n",
        "    for im,l in zip(img_arr,label):\n",
        "         plt.figure(figsize=(5,5))\n",
        "#          plt.imshow(im/255)\n",
        "         plt.show()"
      ],
      "metadata": {
        "id": "nMGyzAyaOW9Z"
      },
      "execution_count": 7,
      "outputs": []
    },
    {
      "cell_type": "code",
      "source": [
        "from keras.layers import Dense,Flatten\n",
        "from keras.models import Model\n",
        "from keras.applications.vgg19 import VGG19\n",
        "import keras"
      ],
      "metadata": {
        "id": "mDdkijfAOn2I"
      },
      "execution_count": 8,
      "outputs": []
    },
    {
      "cell_type": "code",
      "source": [
        "base_model = VGG19(input_shape=(256,256,3),include_top=False)"
      ],
      "metadata": {
        "id": "r7NfPJclUNqu"
      },
      "execution_count": 9,
      "outputs": []
    },
    {
      "cell_type": "code",
      "source": [
        "for layer in base_model.layers:\n",
        "    layer.trainable =False"
      ],
      "metadata": {
        "id": "rqMQqzcyUxqU"
      },
      "execution_count": 10,
      "outputs": []
    },
    {
      "cell_type": "code",
      "source": [
        "base_model.summary()"
      ],
      "metadata": {
        "id": "9YvTi1K5VIAO",
        "colab": {
          "base_uri": "https://localhost:8080/"
        },
        "outputId": "92f84f9e-c280-493a-9c28-465e3b70d92a"
      },
      "execution_count": 11,
      "outputs": [
        {
          "output_type": "stream",
          "name": "stdout",
          "text": [
            "Model: \"vgg19\"\n",
            "_________________________________________________________________\n",
            " Layer (type)                Output Shape              Param #   \n",
            "=================================================================\n",
            " input_1 (InputLayer)        [(None, 256, 256, 3)]     0         \n",
            "                                                                 \n",
            " block1_conv1 (Conv2D)       (None, 256, 256, 64)      1792      \n",
            "                                                                 \n",
            " block1_conv2 (Conv2D)       (None, 256, 256, 64)      36928     \n",
            "                                                                 \n",
            " block1_pool (MaxPooling2D)  (None, 128, 128, 64)      0         \n",
            "                                                                 \n",
            " block2_conv1 (Conv2D)       (None, 128, 128, 128)     73856     \n",
            "                                                                 \n",
            " block2_conv2 (Conv2D)       (None, 128, 128, 128)     147584    \n",
            "                                                                 \n",
            " block2_pool (MaxPooling2D)  (None, 64, 64, 128)       0         \n",
            "                                                                 \n",
            " block3_conv1 (Conv2D)       (None, 64, 64, 256)       295168    \n",
            "                                                                 \n",
            " block3_conv2 (Conv2D)       (None, 64, 64, 256)       590080    \n",
            "                                                                 \n",
            " block3_conv3 (Conv2D)       (None, 64, 64, 256)       590080    \n",
            "                                                                 \n",
            " block3_conv4 (Conv2D)       (None, 64, 64, 256)       590080    \n",
            "                                                                 \n",
            " block3_pool (MaxPooling2D)  (None, 32, 32, 256)       0         \n",
            "                                                                 \n",
            " block4_conv1 (Conv2D)       (None, 32, 32, 512)       1180160   \n",
            "                                                                 \n",
            " block4_conv2 (Conv2D)       (None, 32, 32, 512)       2359808   \n",
            "                                                                 \n",
            " block4_conv3 (Conv2D)       (None, 32, 32, 512)       2359808   \n",
            "                                                                 \n",
            " block4_conv4 (Conv2D)       (None, 32, 32, 512)       2359808   \n",
            "                                                                 \n",
            " block4_pool (MaxPooling2D)  (None, 16, 16, 512)       0         \n",
            "                                                                 \n",
            " block5_conv1 (Conv2D)       (None, 16, 16, 512)       2359808   \n",
            "                                                                 \n",
            " block5_conv2 (Conv2D)       (None, 16, 16, 512)       2359808   \n",
            "                                                                 \n",
            " block5_conv3 (Conv2D)       (None, 16, 16, 512)       2359808   \n",
            "                                                                 \n",
            " block5_conv4 (Conv2D)       (None, 16, 16, 512)       2359808   \n",
            "                                                                 \n",
            " block5_pool (MaxPooling2D)  (None, 8, 8, 512)         0         \n",
            "                                                                 \n",
            "=================================================================\n",
            "Total params: 20024384 (76.39 MB)\n",
            "Trainable params: 0 (0.00 Byte)\n",
            "Non-trainable params: 20024384 (76.39 MB)\n",
            "_________________________________________________________________\n"
          ]
        }
      ]
    },
    {
      "cell_type": "code",
      "source": [
        "x = Flatten()(base_model.output)\n",
        "x = Dense(units = 12,activation=\"softmax\")(x)\n",
        "##creating our model\n",
        "model = Model(base_model.input,x)"
      ],
      "metadata": {
        "id": "syla_3_mZB5_"
      },
      "execution_count": 12,
      "outputs": []
    },
    {
      "cell_type": "code",
      "source": [
        "model.summary()"
      ],
      "metadata": {
        "colab": {
          "base_uri": "https://localhost:8080/"
        },
        "id": "LVixKwmXZrkZ",
        "outputId": "74eee7d9-6979-4b87-fe9f-83cf6446cb25"
      },
      "execution_count": 24,
      "outputs": [
        {
          "output_type": "stream",
          "name": "stdout",
          "text": [
            "Model: \"model\"\n",
            "_________________________________________________________________\n",
            " Layer (type)                Output Shape              Param #   \n",
            "=================================================================\n",
            " input_1 (InputLayer)        [(None, 256, 256, 3)]     0         \n",
            "                                                                 \n",
            " block1_conv1 (Conv2D)       (None, 256, 256, 64)      1792      \n",
            "                                                                 \n",
            " block1_conv2 (Conv2D)       (None, 256, 256, 64)      36928     \n",
            "                                                                 \n",
            " block1_pool (MaxPooling2D)  (None, 128, 128, 64)      0         \n",
            "                                                                 \n",
            " block2_conv1 (Conv2D)       (None, 128, 128, 128)     73856     \n",
            "                                                                 \n",
            " block2_conv2 (Conv2D)       (None, 128, 128, 128)     147584    \n",
            "                                                                 \n",
            " block2_pool (MaxPooling2D)  (None, 64, 64, 128)       0         \n",
            "                                                                 \n",
            " block3_conv1 (Conv2D)       (None, 64, 64, 256)       295168    \n",
            "                                                                 \n",
            " block3_conv2 (Conv2D)       (None, 64, 64, 256)       590080    \n",
            "                                                                 \n",
            " block3_conv3 (Conv2D)       (None, 64, 64, 256)       590080    \n",
            "                                                                 \n",
            " block3_conv4 (Conv2D)       (None, 64, 64, 256)       590080    \n",
            "                                                                 \n",
            " block3_pool (MaxPooling2D)  (None, 32, 32, 256)       0         \n",
            "                                                                 \n",
            " block4_conv1 (Conv2D)       (None, 32, 32, 512)       1180160   \n",
            "                                                                 \n",
            " block4_conv2 (Conv2D)       (None, 32, 32, 512)       2359808   \n",
            "                                                                 \n",
            " block4_conv3 (Conv2D)       (None, 32, 32, 512)       2359808   \n",
            "                                                                 \n",
            " block4_conv4 (Conv2D)       (None, 32, 32, 512)       2359808   \n",
            "                                                                 \n",
            " block4_pool (MaxPooling2D)  (None, 16, 16, 512)       0         \n",
            "                                                                 \n",
            " block5_conv1 (Conv2D)       (None, 16, 16, 512)       2359808   \n",
            "                                                                 \n",
            " block5_conv2 (Conv2D)       (None, 16, 16, 512)       2359808   \n",
            "                                                                 \n",
            " block5_conv3 (Conv2D)       (None, 16, 16, 512)       2359808   \n",
            "                                                                 \n",
            " block5_conv4 (Conv2D)       (None, 16, 16, 512)       2359808   \n",
            "                                                                 \n",
            " block5_pool (MaxPooling2D)  (None, 8, 8, 512)         0         \n",
            "                                                                 \n",
            " flatten (Flatten)           (None, 32768)             0         \n",
            "                                                                 \n",
            " dense (Dense)               (None, 12)                393228    \n",
            "                                                                 \n",
            "=================================================================\n",
            "Total params: 20417612 (77.89 MB)\n",
            "Trainable params: 393228 (1.50 MB)\n",
            "Non-trainable params: 20024384 (76.39 MB)\n",
            "_________________________________________________________________\n"
          ]
        }
      ]
    },
    {
      "cell_type": "code",
      "source": [
        "model.compile(optimizer='adam',loss=keras.losses.categorical_crossentropy,\n",
        "             metrics=['accuracy'])"
      ],
      "metadata": {
        "id": "K-rZObqZZuz6"
      },
      "execution_count": 13,
      "outputs": []
    },
    {
      "cell_type": "code",
      "source": [
        "from keras.callbacks import ModelCheckpoint, EarlyStopping\n",
        "\n",
        "## Early stopping\n",
        "es = EarlyStopping(monitor='val_accuracy', min_delta=0.01, patience=2, verbose=1)\n",
        "\n",
        "## Model checkpoint\n",
        "mc = ModelCheckpoint(filepath='best_model.h5',\n",
        "                     monitor='val_accuracy',\n",
        "                     min_delta=0.01,\n",
        "                     patience=3,\n",
        "                     verbose=1,\n",
        "                     save_best_only=True)\n",
        "\n",
        "cb = [es, mc]  # Corrected to include both EarlyStopping and ModelCheckpoint objects directly in the list\n"
      ],
      "metadata": {
        "id": "Bzj-lbesZ4C5"
      },
      "execution_count": 30,
      "outputs": []
    },
    {
      "cell_type": "code",
      "source": [
        "his = model.fit_generator(train,\n",
        "                          steps_per_epoch=8,\n",
        "                          epochs=25,\n",
        "                          verbose=1,\n",
        "                          callbacks=cb,\n",
        "                         validation_data=val,\n",
        "                         validation_steps=8)"
      ],
      "metadata": {
        "id": "vwWusQHRZ4Ge",
        "colab": {
          "base_uri": "https://localhost:8080/"
        },
        "outputId": "f36ca3b7-029a-48f7-eebe-f71e12adb10a"
      },
      "execution_count": 15,
      "outputs": [
        {
          "output_type": "stream",
          "name": "stderr",
          "text": [
            "<ipython-input-15-1db0c0aa0f4d>:1: UserWarning: `Model.fit_generator` is deprecated and will be removed in a future version. Please use `Model.fit`, which supports generators.\n",
            "  his = model.fit_generator(train,\n"
          ]
        },
        {
          "output_type": "stream",
          "name": "stdout",
          "text": [
            "Epoch 1/25\n",
            "8/8 [==============================] - ETA: 0s - loss: 10.2876 - accuracy: 0.2969 \n",
            "Epoch 1: val_accuracy improved from -inf to 0.47266, saving model to best_model.h5\n"
          ]
        },
        {
          "output_type": "stream",
          "name": "stderr",
          "text": [
            "/usr/local/lib/python3.10/dist-packages/keras/src/engine/training.py:3103: UserWarning: You are saving your model as an HDF5 file via `model.save()`. This file format is considered legacy. We recommend using instead the native Keras format, e.g. `model.save('my_model.keras')`.\n",
            "  saving_api.save_model(\n"
          ]
        },
        {
          "output_type": "stream",
          "name": "stdout",
          "text": [
            "\b\b\b\b\b\b\b\b\b\b\b\b\b\b\b\b\b\b\b\b\b\b\b\b\b\b\b\b\b\b\b\b\b\b\b\b\b\b\b\b\b\b\b\b\b\b\b\b\b\b\b\b\b\b\b\b\b\b\b\b\b\b\b\b\b\b\b\b\b\b\b\b\b\b\b\b\b\b\b\b\b\r8/8 [==============================] - 545s 71s/step - loss: 10.2876 - accuracy: 0.2969 - val_loss: 6.1491 - val_accuracy: 0.4727\n",
            "Epoch 2/25\n",
            "8/8 [==============================] - ETA: 0s - loss: 5.8631 - accuracy: 0.5469 \n",
            "Epoch 2: val_accuracy improved from 0.47266 to 0.65234, saving model to best_model.h5\n",
            "8/8 [==============================] - 590s 78s/step - loss: 5.8631 - accuracy: 0.5469 - val_loss: 3.2041 - val_accuracy: 0.6523\n",
            "Epoch 3/25\n",
            "8/8 [==============================] - ETA: 0s - loss: 4.1598 - accuracy: 0.6250 \n",
            "Epoch 3: val_accuracy improved from 0.65234 to 0.72266, saving model to best_model.h5\n",
            "8/8 [==============================] - 588s 78s/step - loss: 4.1598 - accuracy: 0.6250 - val_loss: 2.8643 - val_accuracy: 0.7227\n",
            "Epoch 4/25\n",
            "8/8 [==============================] - ETA: 0s - loss: 3.0938 - accuracy: 0.6992 \n",
            "Epoch 4: val_accuracy improved from 0.72266 to 0.76172, saving model to best_model.h5\n",
            "8/8 [==============================] - 532s 70s/step - loss: 3.0938 - accuracy: 0.6992 - val_loss: 2.2489 - val_accuracy: 0.7617\n",
            "Epoch 5/25\n",
            "8/8 [==============================] - ETA: 0s - loss: 2.1750 - accuracy: 0.7812 \n",
            "Epoch 5: val_accuracy improved from 0.76172 to 0.78516, saving model to best_model.h5\n",
            "8/8 [==============================] - 587s 78s/step - loss: 2.1750 - accuracy: 0.7812 - val_loss: 1.9705 - val_accuracy: 0.7852\n",
            "Epoch 6/25\n",
            "8/8 [==============================] - ETA: 0s - loss: 2.6621 - accuracy: 0.7539 \n",
            "Epoch 6: val_accuracy improved from 0.78516 to 0.88281, saving model to best_model.h5\n",
            "8/8 [==============================] - 525s 69s/step - loss: 2.6621 - accuracy: 0.7539 - val_loss: 0.8331 - val_accuracy: 0.8828\n",
            "Epoch 7/25\n",
            "8/8 [==============================] - ETA: 0s - loss: 2.0693 - accuracy: 0.8086 \n",
            "Epoch 7: val_accuracy did not improve from 0.88281\n",
            "8/8 [==============================] - 587s 78s/step - loss: 2.0693 - accuracy: 0.8086 - val_loss: 1.9484 - val_accuracy: 0.7812\n",
            "Epoch 8/25\n",
            "8/8 [==============================] - ETA: 0s - loss: 2.5312 - accuracy: 0.7578 \n",
            "Epoch 8: val_accuracy did not improve from 0.88281\n",
            "8/8 [==============================] - 588s 78s/step - loss: 2.5312 - accuracy: 0.7578 - val_loss: 1.5637 - val_accuracy: 0.8398\n",
            "Epoch 9/25\n",
            "8/8 [==============================] - ETA: 0s - loss: 2.0516 - accuracy: 0.8359 \n",
            "Epoch 9: val_accuracy did not improve from 0.88281\n",
            "8/8 [==============================] - 584s 78s/step - loss: 2.0516 - accuracy: 0.8359 - val_loss: 1.1124 - val_accuracy: 0.8555\n",
            "Epoch 9: early stopping\n"
          ]
        }
      ]
    },
    {
      "cell_type": "code",
      "source": [
        "h = his.history"
      ],
      "metadata": {
        "id": "bGMwBovmZ4Jq"
      },
      "execution_count": 16,
      "outputs": []
    },
    {
      "cell_type": "code",
      "source": [
        "plt.plot(h['accuracy'])\n",
        "plt.plot(h['val_accuracy'],color = 'red')\n",
        "plt.title(\"acc vs v-acc\")\n",
        "plt.show()"
      ],
      "metadata": {
        "colab": {
          "base_uri": "https://localhost:8080/",
          "height": 452
        },
        "id": "GMLhm0bSb7QF",
        "outputId": "6d8a041f-6506-40bc-9c86-16143e7f768b"
      },
      "execution_count": 19,
      "outputs": [
        {
          "output_type": "display_data",
          "data": {
            "text/plain": [
              "<Figure size 640x480 with 1 Axes>"
            ],
            "image/png": "[encoded data removed]"
          },
          "metadata": {}
        }
      ]
    },
    {
      "cell_type": "code",
      "source": [
        "plt.plot(h['loss'])\n",
        "plt.plot(h['val_loss'],color = 'red')\n",
        "plt.title(\"acc vs v-loss\")\n"
      ],
      "metadata": {
        "id": "P7ogNSMCg5IW",
        "colab": {
          "base_uri": "https://localhost:8080/",
          "height": 469
        },
        "outputId": "855b84e3-a5c6-430e-e6c7-d300218240cb"
      },
      "execution_count": 35,
      "outputs": [
        {
          "output_type": "execute_result",
          "data": {
            "text/plain": [
              "Text(0.5, 1.0, 'acc vs v-loss')"
            ]
          },
          "metadata": {},
          "execution_count": 35
        },
        {
          "output_type": "display_data",
          "data": {
            "text/plain": [
              "<Figure size 640x480 with 1 Axes>"
            ],
            "image/png": "[encoded data removed]"
          },
          "metadata": {}
        }
      ]
    },
    {
      "cell_type": "code",
      "source": [],
      "metadata": {
        "id": "1xMLjJ_Ywi2D"
      },
      "execution_count": null,
      "outputs": []
    },
    {
      "cell_type": "code",
      "source": [
        "#load best model\n",
        "from keras.models import load_model\n",
        "model = load_model(\"best_model.h5\")"
      ],
      "metadata": {
        "id": "TOiEqZAo0TNA"
      },
      "execution_count": 22,
      "outputs": []
    },
    {
      "cell_type": "code",
      "source": [
        "acc = model.evaluate_generator(val)[1]\n",
        "print(f\"The accuracy of model is {acc*100}%\")"
      ],
      "metadata": {
        "colab": {
          "base_uri": "https://localhost:8080/"
        },
        "id": "c-HNUiYn0TO0",
        "outputId": "a7953bb5-3ca7-4f0f-cf36-0d84761ea578"
      },
      "execution_count": 23,
      "outputs": [
        {
          "output_type": "stream",
          "name": "stderr",
          "text": [
            "<ipython-input-23-f62a594ef9bf>:1: UserWarning: `Model.evaluate_generator` is deprecated and will be removed in a future version. Please use `Model.evaluate`, which supports generators.\n",
            "  acc = model.evaluate_generator(val)[1]\n"
          ]
        },
        {
          "output_type": "stream",
          "name": "stdout",
          "text": [
            "The accuracy of model is 84.22818779945374%\n"
          ]
        }
      ]
    },
    {
      "cell_type": "code",
      "source": [
        "ref = dict(zip(list(train.class_indices.values()) ,  list(train.class_indices.keys())))\n"
      ],
      "metadata": {
        "id": "624GDCqI0TsV"
      },
      "execution_count": 26,
      "outputs": []
    },
    {
      "cell_type": "code",
      "source": [
        "def prediction(path):\n",
        "    img = load_img(path,target_size = (256,256))\n",
        "    i = img_to_array(img)\n",
        "    im = preprocess_input(i)\n",
        "    img = np.expand_dims(im,axis=0)\n",
        "    pred =np.argmax( model.predict(img))\n",
        "    print(f\"the Image belong to {ref[pred]}\")"
      ],
      "metadata": {
        "id": "xeCecAMn0ZSA"
      },
      "execution_count": 27,
      "outputs": []
    },
    {
      "cell_type": "code",
      "source": [
        "path = \"/content/mango_leaf.jpeg\"\n",
        "prediction(path)"
      ],
      "metadata": {
        "colab": {
          "base_uri": "https://localhost:8080/"
        },
        "id": "8nmhSSEf0ZU8",
        "outputId": "4144ddca-7b6e-4291-d7c9-ef721776cb65"
      },
      "execution_count": 31,
      "outputs": [
        {
          "output_type": "stream",
          "name": "stdout",
          "text": [
            "1/1 [==============================] - 1s 787ms/step\n",
            "the Image belong to Alstonia Scholaris (P2)\n"
          ]
        }
      ]
    },
    {
      "cell_type": "code",
      "source": [],
      "metadata": {
        "id": "1pr9wM9t0ZXp"
      },
      "execution_count": null,
      "outputs": []
    },
    {
      "cell_type": "code",
      "source": [],
      "metadata": {
        "id": "4_JO1N9O0ZaA"
      },
      "execution_count": null,
      "outputs": []
    }
  ]
}