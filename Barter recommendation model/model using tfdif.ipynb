{
 "cells": [
  {
   "cell_type": "code",
   "execution_count": 1,
   "id": "7abc69ec",
   "metadata": {},
   "outputs": [],
   "source": [
    "import pandas as pd\n",
    "import numpy as np"
   ]
  },
  {
   "cell_type": "markdown",
   "id": "d6663c36",
   "metadata": {},
   "source": [
    "## Loading Dataset"
   ]
  },
  {
   "cell_type": "code",
   "execution_count": 2,
   "id": "5bcca09b",
   "metadata": {},
   "outputs": [],
   "source": [
    "frame = pd.read_csv('barterdata.csv')"
   ]
  },
  {
   "cell_type": "code",
   "execution_count": 3,
   "id": "cd242437",
   "metadata": {},
   "outputs": [
    {
     "data": {
      "text/html": [
       "<div>\n",
       "<style scoped>\n",
       "    .dataframe tbody tr th:only-of-type {\n",
       "        vertical-align: middle;\n",
       "    }\n",
       "\n",
       "    .dataframe tbody tr th {\n",
       "        vertical-align: top;\n",
       "    }\n",
       "\n",
       "    .dataframe thead th {\n",
       "        text-align: right;\n",
       "    }\n",
       "</style>\n",
       "<table border=\"1\" class=\"dataframe\">\n",
       "  <thead>\n",
       "    <tr style=\"text-align: right;\">\n",
       "      <th></th>\n",
       "      <th>Title Name</th>\n",
       "      <th>View Count</th>\n",
       "      <th>Like Count</th>\n",
       "      <th>Tags</th>\n",
       "      <th>Category</th>\n",
       "    </tr>\n",
       "  </thead>\n",
       "  <tbody>\n",
       "    <tr>\n",
       "      <th>0</th>\n",
       "      <td>Visual identity. Branding.</td>\n",
       "      <td>6845</td>\n",
       "      <td>933</td>\n",
       "      <td>Logo', 'Package', 'Motion Graphics', 'Product'...</td>\n",
       "      <td>Environmental Design</td>\n",
       "    </tr>\n",
       "    <tr>\n",
       "      <th>1</th>\n",
       "      <td>Thomas Edisons Invention Factory</td>\n",
       "      <td>5997</td>\n",
       "      <td>224</td>\n",
       "      <td>Comic Book', 'Character', 'Poster', 'Illustrat...</td>\n",
       "      <td>Logo Design</td>\n",
       "    </tr>\n",
       "    <tr>\n",
       "      <th>2</th>\n",
       "      <td>Hellorep.ai onboarding experience</td>\n",
       "      <td>1510</td>\n",
       "      <td>1080</td>\n",
       "      <td>Web Design', 'Character', 'Magazine', 'Motion ...</td>\n",
       "      <td>Vehicle Wrap Design</td>\n",
       "    </tr>\n",
       "    <tr>\n",
       "      <th>3</th>\n",
       "      <td>3D Composition</td>\n",
       "      <td>739</td>\n",
       "      <td>930</td>\n",
       "      <td>Illustration', 'Package', 'Character', 'Magazi...</td>\n",
       "      <td>Brand Identity Design</td>\n",
       "    </tr>\n",
       "    <tr>\n",
       "      <th>4</th>\n",
       "      <td>3D Composition</td>\n",
       "      <td>4647</td>\n",
       "      <td>384</td>\n",
       "      <td>Comic Book', 'Typography', 'Web Design', 'Maga...</td>\n",
       "      <td>Illustration</td>\n",
       "    </tr>\n",
       "  </tbody>\n",
       "</table>\n",
       "</div>"
      ],
      "text/plain": [
       "                          Title Name  View Count  Like Count  \\\n",
       "0         Visual identity. Branding.        6845         933   \n",
       "1   Thomas Edisons Invention Factory        5997         224   \n",
       "2  Hellorep.ai onboarding experience        1510        1080   \n",
       "3                     3D Composition         739         930   \n",
       "4                     3D Composition        4647         384   \n",
       "\n",
       "                                                Tags               Category  \n",
       "0  Logo', 'Package', 'Motion Graphics', 'Product'...   Environmental Design  \n",
       "1  Comic Book', 'Character', 'Poster', 'Illustrat...            Logo Design  \n",
       "2  Web Design', 'Character', 'Magazine', 'Motion ...    Vehicle Wrap Design  \n",
       "3  Illustration', 'Package', 'Character', 'Magazi...  Brand Identity Design  \n",
       "4  Comic Book', 'Typography', 'Web Design', 'Maga...           Illustration  "
      ]
     },
     "execution_count": 3,
     "metadata": {},
     "output_type": "execute_result"
    }
   ],
   "source": [
    "frame.head()"
   ]
  },
  {
   "cell_type": "code",
   "execution_count": 4,
   "id": "e55db9d6",
   "metadata": {},
   "outputs": [
    {
     "data": {
      "text/plain": [
       "Title Name    0\n",
       "View Count    0\n",
       "Like Count    0\n",
       "Tags          0\n",
       "Category      0\n",
       "dtype: int64"
      ]
     },
     "execution_count": 4,
     "metadata": {},
     "output_type": "execute_result"
    }
   ],
   "source": [
    "frame.isnull().sum()"
   ]
  },
  {
   "cell_type": "markdown",
   "id": "5dfcdd5a",
   "metadata": {},
   "source": [
    "# # Changing all the tags into small letters"
   ]
  },
  {
   "cell_type": "code",
   "execution_count": 5,
   "id": "c793ac4f",
   "metadata": {},
   "outputs": [],
   "source": [
    "frame['Tags']=frame['Tags'].str.lower().str.replace(\"'\",\"\").str.replace(\" \",\"\").str.replace(\",\",\" \")"
   ]
  },
  {
   "cell_type": "code",
   "execution_count": 6,
   "id": "bbe461ea",
   "metadata": {},
   "outputs": [],
   "source": [
    "frame['Category']=frame['Category'].str.replace(\" \",\"\").str.lower()"
   ]
  },
  {
   "cell_type": "code",
   "execution_count": 7,
   "id": "558c791f",
   "metadata": {},
   "outputs": [
    {
     "data": {
      "text/html": [
       "<div>\n",
       "<style scoped>\n",
       "    .dataframe tbody tr th:only-of-type {\n",
       "        vertical-align: middle;\n",
       "    }\n",
       "\n",
       "    .dataframe tbody tr th {\n",
       "        vertical-align: top;\n",
       "    }\n",
       "\n",
       "    .dataframe thead th {\n",
       "        text-align: right;\n",
       "    }\n",
       "</style>\n",
       "<table border=\"1\" class=\"dataframe\">\n",
       "  <thead>\n",
       "    <tr style=\"text-align: right;\">\n",
       "      <th></th>\n",
       "      <th>Title Name</th>\n",
       "      <th>View Count</th>\n",
       "      <th>Like Count</th>\n",
       "      <th>Tags</th>\n",
       "      <th>Category</th>\n",
       "    </tr>\n",
       "  </thead>\n",
       "  <tbody>\n",
       "    <tr>\n",
       "      <th>0</th>\n",
       "      <td>Visual identity. Branding.</td>\n",
       "      <td>6845</td>\n",
       "      <td>933</td>\n",
       "      <td>logo package motiongraphics product character</td>\n",
       "      <td>environmentaldesign</td>\n",
       "    </tr>\n",
       "    <tr>\n",
       "      <th>1</th>\n",
       "      <td>Thomas Edisons Invention Factory</td>\n",
       "      <td>5997</td>\n",
       "      <td>224</td>\n",
       "      <td>comicbook character poster illustration brandi...</td>\n",
       "      <td>logodesign</td>\n",
       "    </tr>\n",
       "    <tr>\n",
       "      <th>2</th>\n",
       "      <td>Hellorep.ai onboarding experience</td>\n",
       "      <td>1510</td>\n",
       "      <td>1080</td>\n",
       "      <td>webdesign character magazine motiongraphics il...</td>\n",
       "      <td>vehiclewrapdesign</td>\n",
       "    </tr>\n",
       "    <tr>\n",
       "      <th>3</th>\n",
       "      <td>3D Composition</td>\n",
       "      <td>739</td>\n",
       "      <td>930</td>\n",
       "      <td>illustration package character magazine brandi...</td>\n",
       "      <td>brandidentitydesign</td>\n",
       "    </tr>\n",
       "    <tr>\n",
       "      <th>4</th>\n",
       "      <td>3D Composition</td>\n",
       "      <td>4647</td>\n",
       "      <td>384</td>\n",
       "      <td>comicbook typography webdesign magazine</td>\n",
       "      <td>illustration</td>\n",
       "    </tr>\n",
       "  </tbody>\n",
       "</table>\n",
       "</div>"
      ],
      "text/plain": [
       "                          Title Name  View Count  Like Count  \\\n",
       "0         Visual identity. Branding.        6845         933   \n",
       "1   Thomas Edisons Invention Factory        5997         224   \n",
       "2  Hellorep.ai onboarding experience        1510        1080   \n",
       "3                     3D Composition         739         930   \n",
       "4                     3D Composition        4647         384   \n",
       "\n",
       "                                                Tags             Category  \n",
       "0      logo package motiongraphics product character  environmentaldesign  \n",
       "1  comicbook character poster illustration brandi...           logodesign  \n",
       "2  webdesign character magazine motiongraphics il...    vehiclewrapdesign  \n",
       "3  illustration package character magazine brandi...  brandidentitydesign  \n",
       "4            comicbook typography webdesign magazine         illustration  "
      ]
     },
     "execution_count": 7,
     "metadata": {},
     "output_type": "execute_result"
    }
   ],
   "source": [
    "frame.head()"
   ]
  },
  {
   "cell_type": "markdown",
   "id": "5b5b463d",
   "metadata": {},
   "source": [
    "# # Adding new column(final tag) in the Present Dataframe"
   ]
  },
  {
   "cell_type": "code",
   "execution_count": 8,
   "id": "7ea9fcf4",
   "metadata": {},
   "outputs": [],
   "source": [
    "frame['final_tag'] = frame['Tags'] + frame['Category']"
   ]
  },
  {
   "cell_type": "code",
   "execution_count": 9,
   "id": "34f2266b",
   "metadata": {},
   "outputs": [
    {
     "data": {
      "text/html": [
       "<div>\n",
       "<style scoped>\n",
       "    .dataframe tbody tr th:only-of-type {\n",
       "        vertical-align: middle;\n",
       "    }\n",
       "\n",
       "    .dataframe tbody tr th {\n",
       "        vertical-align: top;\n",
       "    }\n",
       "\n",
       "    .dataframe thead th {\n",
       "        text-align: right;\n",
       "    }\n",
       "</style>\n",
       "<table border=\"1\" class=\"dataframe\">\n",
       "  <thead>\n",
       "    <tr style=\"text-align: right;\">\n",
       "      <th></th>\n",
       "      <th>Title Name</th>\n",
       "      <th>View Count</th>\n",
       "      <th>Like Count</th>\n",
       "      <th>Tags</th>\n",
       "      <th>Category</th>\n",
       "      <th>final_tag</th>\n",
       "    </tr>\n",
       "  </thead>\n",
       "  <tbody>\n",
       "    <tr>\n",
       "      <th>0</th>\n",
       "      <td>Visual identity. Branding.</td>\n",
       "      <td>6845</td>\n",
       "      <td>933</td>\n",
       "      <td>logo package motiongraphics product character</td>\n",
       "      <td>environmentaldesign</td>\n",
       "      <td>logo package motiongraphics product charactere...</td>\n",
       "    </tr>\n",
       "    <tr>\n",
       "      <th>1</th>\n",
       "      <td>Thomas Edisons Invention Factory</td>\n",
       "      <td>5997</td>\n",
       "      <td>224</td>\n",
       "      <td>comicbook character poster illustration brandi...</td>\n",
       "      <td>logodesign</td>\n",
       "      <td>comicbook character poster illustration brandi...</td>\n",
       "    </tr>\n",
       "    <tr>\n",
       "      <th>2</th>\n",
       "      <td>Hellorep.ai onboarding experience</td>\n",
       "      <td>1510</td>\n",
       "      <td>1080</td>\n",
       "      <td>webdesign character magazine motiongraphics il...</td>\n",
       "      <td>vehiclewrapdesign</td>\n",
       "      <td>webdesign character magazine motiongraphics il...</td>\n",
       "    </tr>\n",
       "    <tr>\n",
       "      <th>3</th>\n",
       "      <td>3D Composition</td>\n",
       "      <td>739</td>\n",
       "      <td>930</td>\n",
       "      <td>illustration package character magazine brandi...</td>\n",
       "      <td>brandidentitydesign</td>\n",
       "      <td>illustration package character magazine brandi...</td>\n",
       "    </tr>\n",
       "    <tr>\n",
       "      <th>4</th>\n",
       "      <td>3D Composition</td>\n",
       "      <td>4647</td>\n",
       "      <td>384</td>\n",
       "      <td>comicbook typography webdesign magazine</td>\n",
       "      <td>illustration</td>\n",
       "      <td>comicbook typography webdesign magazineillustr...</td>\n",
       "    </tr>\n",
       "  </tbody>\n",
       "</table>\n",
       "</div>"
      ],
      "text/plain": [
       "                          Title Name  View Count  Like Count  \\\n",
       "0         Visual identity. Branding.        6845         933   \n",
       "1   Thomas Edisons Invention Factory        5997         224   \n",
       "2  Hellorep.ai onboarding experience        1510        1080   \n",
       "3                     3D Composition         739         930   \n",
       "4                     3D Composition        4647         384   \n",
       "\n",
       "                                                Tags             Category  \\\n",
       "0      logo package motiongraphics product character  environmentaldesign   \n",
       "1  comicbook character poster illustration brandi...           logodesign   \n",
       "2  webdesign character magazine motiongraphics il...    vehiclewrapdesign   \n",
       "3  illustration package character magazine brandi...  brandidentitydesign   \n",
       "4            comicbook typography webdesign magazine         illustration   \n",
       "\n",
       "                                           final_tag  \n",
       "0  logo package motiongraphics product charactere...  \n",
       "1  comicbook character poster illustration brandi...  \n",
       "2  webdesign character magazine motiongraphics il...  \n",
       "3  illustration package character magazine brandi...  \n",
       "4  comicbook typography webdesign magazineillustr...  "
      ]
     },
     "execution_count": 9,
     "metadata": {},
     "output_type": "execute_result"
    }
   ],
   "source": [
    "frame.head()"
   ]
  },
  {
   "cell_type": "markdown",
   "id": "384b8399",
   "metadata": {},
   "source": [
    "# # New Dataframe for the final model "
   ]
  },
  {
   "cell_type": "code",
   "execution_count": 10,
   "id": "46311638",
   "metadata": {},
   "outputs": [
    {
     "name": "stderr",
     "output_type": "stream",
     "text": [
      "C:\\Users\\sonug\\AppData\\Local\\Temp\\ipykernel_9096\\3050990701.py:2: SettingWithCopyWarning: \n",
      "A value is trying to be set on a copy of a slice from a DataFrame\n",
      "\n",
      "See the caveats in the documentation: https://pandas.pydata.org/pandas-docs/stable/user_guide/indexing.html#returning-a-view-versus-a-copy\n",
      "  new_frame.rename(columns = {\"Title Name\":\"title\"},inplace=True)\n"
     ]
    }
   ],
   "source": [
    "new_frame = frame[['Title Name','final_tag']]\n",
    "new_frame.rename(columns = {\"Title Name\":\"title\"},inplace=True)"
   ]
  },
  {
   "cell_type": "markdown",
   "id": "a8cea88d",
   "metadata": {},
   "source": [
    "# # Applying steming in the final Dataframe(final tag column)"
   ]
  },
  {
   "cell_type": "code",
   "execution_count": 11,
   "id": "4c115198",
   "metadata": {},
   "outputs": [],
   "source": [
    "import nltk\n",
    "from nltk.stem.porter import PorterStemmer\n",
    "ps = PorterStemmer()"
   ]
  },
  {
   "cell_type": "code",
   "execution_count": 12,
   "id": "4efed714",
   "metadata": {},
   "outputs": [],
   "source": [
    "def stem(text):\n",
    "    y = []\n",
    "    for i in text.split():\n",
    "        y.append(ps.stem(i))\n",
    "    return \" \".join(y)"
   ]
  },
  {
   "cell_type": "code",
   "execution_count": 13,
   "id": "bd779e16",
   "metadata": {},
   "outputs": [
    {
     "name": "stderr",
     "output_type": "stream",
     "text": [
      "C:\\Users\\sonug\\AppData\\Local\\Temp\\ipykernel_9096\\967637850.py:1: SettingWithCopyWarning: \n",
      "A value is trying to be set on a copy of a slice from a DataFrame.\n",
      "Try using .loc[row_indexer,col_indexer] = value instead\n",
      "\n",
      "See the caveats in the documentation: https://pandas.pydata.org/pandas-docs/stable/user_guide/indexing.html#returning-a-view-versus-a-copy\n",
      "  new_frame['final_tag'] = new_frame['final_tag'].apply(stem)\n"
     ]
    }
   ],
   "source": [
    "new_frame['final_tag'] = new_frame['final_tag'].apply(stem)"
   ]
  },
  {
   "cell_type": "code",
   "execution_count": 14,
   "id": "59d3a156",
   "metadata": {
    "scrolled": true
   },
   "outputs": [
    {
     "data": {
      "text/html": [
       "<div>\n",
       "<style scoped>\n",
       "    .dataframe tbody tr th:only-of-type {\n",
       "        vertical-align: middle;\n",
       "    }\n",
       "\n",
       "    .dataframe tbody tr th {\n",
       "        vertical-align: top;\n",
       "    }\n",
       "\n",
       "    .dataframe thead th {\n",
       "        text-align: right;\n",
       "    }\n",
       "</style>\n",
       "<table border=\"1\" class=\"dataframe\">\n",
       "  <thead>\n",
       "    <tr style=\"text-align: right;\">\n",
       "      <th></th>\n",
       "      <th>title</th>\n",
       "      <th>final_tag</th>\n",
       "    </tr>\n",
       "  </thead>\n",
       "  <tbody>\n",
       "    <tr>\n",
       "      <th>0</th>\n",
       "      <td>Visual identity. Branding.</td>\n",
       "      <td>logo packag motiongraph product characterenvir...</td>\n",
       "    </tr>\n",
       "    <tr>\n",
       "      <th>1</th>\n",
       "      <td>Thomas Edisons Invention Factory</td>\n",
       "      <td>comicbook charact poster illustr brand socialm...</td>\n",
       "    </tr>\n",
       "    <tr>\n",
       "      <th>2</th>\n",
       "      <td>Hellorep.ai onboarding experience</td>\n",
       "      <td>webdesign charact magazin motiongraph illustr ...</td>\n",
       "    </tr>\n",
       "    <tr>\n",
       "      <th>3</th>\n",
       "      <td>3D Composition</td>\n",
       "      <td>illustr packag charact magazin brand motiongra...</td>\n",
       "    </tr>\n",
       "    <tr>\n",
       "      <th>4</th>\n",
       "      <td>3D Composition</td>\n",
       "      <td>comicbook typographi webdesign magazineillustr</td>\n",
       "    </tr>\n",
       "    <tr>\n",
       "      <th>5</th>\n",
       "      <td>Medical service - Mobile app</td>\n",
       "      <td>logo ui/ux motiongraph postermotiongraph</td>\n",
       "    </tr>\n",
       "    <tr>\n",
       "      <th>6</th>\n",
       "      <td>Blent | Case Study</td>\n",
       "      <td>magazin charact logo postermotiongraph</td>\n",
       "    </tr>\n",
       "    <tr>\n",
       "      <th>7</th>\n",
       "      <td>Visual identity. Branding.</td>\n",
       "      <td>poster webdesign magazinesignagedesign</td>\n",
       "    </tr>\n",
       "    <tr>\n",
       "      <th>8</th>\n",
       "      <td>Thomas Edisons Invention Factory</td>\n",
       "      <td>charact packag illustr webdesignenvironmentald...</td>\n",
       "    </tr>\n",
       "    <tr>\n",
       "      <th>9</th>\n",
       "      <td>Blent | Case Study</td>\n",
       "      <td>poster ui/ux packageenvironmentaldesign</td>\n",
       "    </tr>\n",
       "  </tbody>\n",
       "</table>\n",
       "</div>"
      ],
      "text/plain": [
       "                               title  \\\n",
       "0         Visual identity. Branding.   \n",
       "1   Thomas Edisons Invention Factory   \n",
       "2  Hellorep.ai onboarding experience   \n",
       "3                     3D Composition   \n",
       "4                     3D Composition   \n",
       "5       Medical service - Mobile app   \n",
       "6                 Blent | Case Study   \n",
       "7         Visual identity. Branding.   \n",
       "8   Thomas Edisons Invention Factory   \n",
       "9                 Blent | Case Study   \n",
       "\n",
       "                                           final_tag  \n",
       "0  logo packag motiongraph product characterenvir...  \n",
       "1  comicbook charact poster illustr brand socialm...  \n",
       "2  webdesign charact magazin motiongraph illustr ...  \n",
       "3  illustr packag charact magazin brand motiongra...  \n",
       "4     comicbook typographi webdesign magazineillustr  \n",
       "5           logo ui/ux motiongraph postermotiongraph  \n",
       "6             magazin charact logo postermotiongraph  \n",
       "7             poster webdesign magazinesignagedesign  \n",
       "8  charact packag illustr webdesignenvironmentald...  \n",
       "9            poster ui/ux packageenvironmentaldesign  "
      ]
     },
     "execution_count": 14,
     "metadata": {},
     "output_type": "execute_result"
    }
   ],
   "source": [
    "new_frame.head(10)"
   ]
  },
  {
   "cell_type": "markdown",
   "id": "f58db9df",
   "metadata": {},
   "source": [
    "# # Converting the final tag into Tfidf vector"
   ]
  },
  {
   "cell_type": "code",
   "execution_count": 15,
   "id": "617e25db",
   "metadata": {},
   "outputs": [],
   "source": [
    "from sklearn.feature_extraction.text import TfidfVectorizer"
   ]
  },
  {
   "cell_type": "code",
   "execution_count": 16,
   "id": "8e276d1a",
   "metadata": {},
   "outputs": [],
   "source": [
    "tfdif = TfidfVectorizer(stop_words='english')"
   ]
  },
  {
   "cell_type": "code",
   "execution_count": 17,
   "id": "c186ed41",
   "metadata": {},
   "outputs": [],
   "source": [
    "tfdif_new = tfdif.fit_transform(new_frame['final_tag'])"
   ]
  },
  {
   "cell_type": "code",
   "execution_count": 18,
   "id": "7f2b1e33",
   "metadata": {},
   "outputs": [
    {
     "data": {
      "text/plain": [
       "<10000x242 sparse matrix of type '<class 'numpy.float64'>'\n",
       "\twith 54004 stored elements in Compressed Sparse Row format>"
      ]
     },
     "execution_count": 18,
     "metadata": {},
     "output_type": "execute_result"
    }
   ],
   "source": [
    "tfdif_new"
   ]
  },
  {
   "cell_type": "markdown",
   "id": "6cde21c6",
   "metadata": {},
   "source": [
    "# #Cosine similarity on tfidf verctor"
   ]
  },
  {
   "cell_type": "code",
   "execution_count": 19,
   "id": "e00b456c",
   "metadata": {},
   "outputs": [],
   "source": [
    "from sklearn.metrics.pairwise import cosine_similarity"
   ]
  },
  {
   "cell_type": "code",
   "execution_count": 20,
   "id": "ee73deb7",
   "metadata": {},
   "outputs": [],
   "source": [
    "similarity = cosine_similarity(tfdif_new,tfdif_new)"
   ]
  },
  {
   "cell_type": "code",
   "execution_count": 21,
   "id": "ec150c6a",
   "metadata": {},
   "outputs": [],
   "source": [
    "indices = pd.Series(new_frame.index)"
   ]
  },
  {
   "cell_type": "markdown",
   "id": "eff2d9fc",
   "metadata": {},
   "source": [
    "# # Final recommendation model"
   ]
  },
  {
   "cell_type": "code",
   "execution_count": 22,
   "id": "cbedef0f",
   "metadata": {},
   "outputs": [],
   "source": [
    "def recommend(title,cosine_sim = similarity):\n",
    "    index = new_frame[new_frame[\"title\"]==title].index[0]\n",
    "    similarity_scores = pd.Series(cosine_sim[index]).sort_values(ascending=False)\n",
    "    Top_5_post = list(similarity_scores.iloc[1:6].index)\n",
    "    post = [list(new_frame.index)[i] for i in Top_5_post]\n",
    "    post_titles = [new_frame.loc[i, \"title\"] for i in post]\n",
    "    return list(zip( post_titles))"
   ]
  },
  {
   "cell_type": "markdown",
   "id": "e87898a6",
   "metadata": {},
   "source": [
    "# Dumping the model"
   ]
  },
  {
   "cell_type": "code",
   "execution_count": 23,
   "id": "9bd04826",
   "metadata": {},
   "outputs": [],
   "source": [
    "import pickle\n",
    "pickle.dump(recommend,open('model_tfidf.pkl','wb'))"
   ]
  }
 ],
 "metadata": {
  "kernelspec": {
   "display_name": "Python 3 (ipykernel)",
   "language": "python",
   "name": "python3"
  },
  "language_info": {
   "codemirror_mode": {
    "name": "ipython",
    "version": 3
   },
   "file_extension": ".py",
   "mimetype": "text/x-python",
   "name": "python",
   "nbconvert_exporter": "python",
   "pygments_lexer": "ipython3",
   "version": "3.10.7"
  }
 },
 "nbformat": 4,
 "nbformat_minor": 5
}
